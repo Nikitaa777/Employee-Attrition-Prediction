{
 "cells": [
  {
   "cell_type": "code",
   "execution_count": 4,
   "id": "548255d5-7a0b-4855-9f8b-31435b7b3445",
   "metadata": {},
   "outputs": [],
   "source": [
    "# Step 1: Import libraries\n",
    "import pandas as pd\n",
    "import numpy as np\n",
    "import matplotlib.pyplot as plt\n",
    "import seaborn as sns\n",
    "\n",
    "from sklearn.model_selection import train_test_split\n",
    "from sklearn.preprocessing import LabelEncoder, StandardScaler\n",
    "from sklearn.linear_model import LogisticRegression\n",
    "from sklearn.tree import DecisionTreeClassifier\n",
    "from sklearn.ensemble import RandomForestClassifier\n",
    "from sklearn.metrics import accuracy_score, confusion_matrix, classification_report\n"
   ]
  },
  {
   "cell_type": "code",
   "execution_count": 5,
   "id": "2fb70b44-c4b6-40c0-a51b-98c7d7cb6116",
   "metadata": {},
   "outputs": [
    {
     "name": "stdout",
     "output_type": "stream",
     "text": [
      "Dataset shape: (19158, 14)\n",
      "   enrollee_id      city  city_development_index gender  \\\n",
      "0         8949  city_103                   0.920   Male   \n",
      "1        29725   city_40                   0.776   Male   \n",
      "2        11561   city_21                   0.624    NaN   \n",
      "3        33241  city_115                   0.789    NaN   \n",
      "4          666  city_162                   0.767   Male   \n",
      "\n",
      "       relevent_experience enrolled_university education_level  \\\n",
      "0  Has relevent experience       no_enrollment        Graduate   \n",
      "1   No relevent experience       no_enrollment        Graduate   \n",
      "2   No relevent experience    Full time course        Graduate   \n",
      "3   No relevent experience                 NaN        Graduate   \n",
      "4  Has relevent experience       no_enrollment         Masters   \n",
      "\n",
      "  major_discipline experience company_size    company_type last_new_job  \\\n",
      "0             STEM        >20          NaN             NaN            1   \n",
      "1             STEM         15        50-99         Pvt Ltd           >4   \n",
      "2             STEM          5          NaN             NaN        never   \n",
      "3  Business Degree         <1          NaN         Pvt Ltd        never   \n",
      "4             STEM        >20        50-99  Funded Startup            4   \n",
      "\n",
      "   training_hours  target  \n",
      "0              36     1.0  \n",
      "1              47     0.0  \n",
      "2              83     0.0  \n",
      "3              52     1.0  \n",
      "4               8     0.0  \n"
     ]
    }
   ],
   "source": [
    "# Step 2: Load dataset\n",
    "df = pd.read_csv(\"F:aug_train.csv\")\n",
    "print(\"Dataset shape:\", df.shape)\n",
    "print(df.head())"
   ]
  },
  {
   "cell_type": "code",
   "execution_count": 6,
   "id": "fc2a792d-fb02-4f6b-8d98-eca8e1bc9e49",
   "metadata": {},
   "outputs": [
    {
     "name": "stdout",
     "output_type": "stream",
     "text": [
      "\n",
      "Missing values:\n",
      " enrollee_id                  0\n",
      "city                         0\n",
      "city_development_index       0\n",
      "gender                    4508\n",
      "relevent_experience          0\n",
      "enrolled_university        386\n",
      "education_level            460\n",
      "major_discipline          2813\n",
      "experience                  65\n",
      "company_size              5938\n",
      "company_type              6140\n",
      "last_new_job               423\n",
      "training_hours               0\n",
      "target                       0\n",
      "dtype: int64\n"
     ]
    }
   ],
   "source": [
    "# Step 3: Check missing values\n",
    "print(\"\\nMissing values:\\n\", df.isnull().sum())\n"
   ]
  },
  {
   "cell_type": "code",
   "execution_count": 7,
   "id": "db11e10c-c08f-4889-aecd-29575e3d4d92",
   "metadata": {},
   "outputs": [],
   "source": [
    "# Step 4: Handle missing values\n",
    "df.fillna(df.mode().iloc[0], inplace=True)  # fill categorical with mode, numeric with median"
   ]
  },
  {
   "cell_type": "code",
   "execution_count": 8,
   "id": "1b600412-e8ed-47eb-b732-2635d558bdd5",
   "metadata": {},
   "outputs": [],
   "source": [
    "# Step 5: Encode categorical features\n",
    "le = LabelEncoder()\n",
    "for col in df.select_dtypes(include=\"object\").columns:\n",
    "    df[col] = le.fit_transform(df[col])"
   ]
  },
  {
   "cell_type": "code",
   "execution_count": 9,
   "id": "9431d8e4-881a-4184-858f-6004a0ff5a41",
   "metadata": {},
   "outputs": [],
   "source": [
    "# Step 6: Define features and target\n",
    "X = df.drop(\"target\", axis=1)   # \"target\" column = whether employee left\n",
    "y = df[\"target\"]\n",
    "\n",
    "# Scale features\n",
    "scaler = StandardScaler()\n",
    "X = scaler.fit_transform(X)\n",
    "\n",
    "# Train-test split\n",
    "X_train, X_test, y_train, y_test = train_test_split(X, y, test_size=0.2, random_state=42)"
   ]
  },
  {
   "cell_type": "code",
   "execution_count": 10,
   "id": "44dd14b3-1ae9-45e6-864b-758a76a3a597",
   "metadata": {},
   "outputs": [
    {
     "name": "stdout",
     "output_type": "stream",
     "text": [
      "\n",
      "Logistic Regression Accuracy: 0.7662\n",
      "[[2686  194]\n",
      " [ 702  250]]\n",
      "              precision    recall  f1-score   support\n",
      "\n",
      "         0.0       0.79      0.93      0.86      2880\n",
      "         1.0       0.56      0.26      0.36       952\n",
      "\n",
      "    accuracy                           0.77      3832\n",
      "   macro avg       0.68      0.60      0.61      3832\n",
      "weighted avg       0.74      0.77      0.73      3832\n",
      "\n",
      "\n",
      "Decision Tree Accuracy: 0.7043\n",
      "[[2286  594]\n",
      " [ 539  413]]\n",
      "              precision    recall  f1-score   support\n",
      "\n",
      "         0.0       0.81      0.79      0.80      2880\n",
      "         1.0       0.41      0.43      0.42       952\n",
      "\n",
      "    accuracy                           0.70      3832\n",
      "   macro avg       0.61      0.61      0.61      3832\n",
      "weighted avg       0.71      0.70      0.71      3832\n",
      "\n",
      "\n",
      "Random Forest Accuracy: 0.7657\n",
      "[[2572  308]\n",
      " [ 590  362]]\n",
      "              precision    recall  f1-score   support\n",
      "\n",
      "         0.0       0.81      0.89      0.85      2880\n",
      "         1.0       0.54      0.38      0.45       952\n",
      "\n",
      "    accuracy                           0.77      3832\n",
      "   macro avg       0.68      0.64      0.65      3832\n",
      "weighted avg       0.75      0.77      0.75      3832\n",
      "\n",
      "\n",
      "Model Comparison:\n",
      "                  Model  Accuracy\n",
      "0  Logistic Regression  0.766180\n",
      "1        Decision Tree  0.704332\n",
      "2        Random Forest  0.765658\n"
     ]
    }
   ],
   "source": [
    "# Step 7: Train models\n",
    "models = {\n",
    "    \"Logistic Regression\": LogisticRegression(max_iter=1000),\n",
    "    \"Decision Tree\": DecisionTreeClassifier(random_state=42),\n",
    "    \"Random Forest\": RandomForestClassifier(random_state=42, n_estimators=100)\n",
    "}\n",
    "\n",
    "results = []\n",
    "for name, model in models.items():\n",
    "    model.fit(X_train, y_train)\n",
    "    y_pred = model.predict(X_test)\n",
    "    acc = accuracy_score(y_test, y_pred)\n",
    "    results.append({\"Model\": name, \"Accuracy\": acc})\n",
    "    print(f\"\\n{name} Accuracy: {acc:.4f}\")\n",
    "    print(confusion_matrix(y_test, y_pred))\n",
    "    print(classification_report(y_test, y_pred))\n",
    "\n",
    "results_df = pd.DataFrame(results)\n",
    "print(\"\\nModel Comparison:\\n\", results_df)"
   ]
  },
  {
   "cell_type": "code",
   "execution_count": 11,
   "id": "aae3c1a4-4abe-461e-8d76-9c8980476bf1",
   "metadata": {},
   "outputs": [
    {
     "name": "stderr",
     "output_type": "stream",
     "text": [
      "C:\\Users\\nikit\\AppData\\Local\\Temp\\ipykernel_1648\\2575403405.py:3: FutureWarning: \n",
      "\n",
      "Passing `palette` without assigning `hue` is deprecated and will be removed in v0.14.0. Assign the `x` variable to `hue` and set `legend=False` for the same effect.\n",
      "\n",
      "  sns.barplot(x=\"Model\", y=\"Accuracy\", data=results_df, palette=\"viridis\")\n"
     ]
    },
    {
     "data": {
      "image/png": "[encoded data removed]",
      "text/plain": [
       "<Figure size 800x500 with 1 Axes>"
      ]
     },
     "metadata": {},
     "output_type": "display_data"
    }
   ],
   "source": [
    "# Step 8: Plot Model Accuracy\n",
    "plt.figure(figsize=(8,5))\n",
    "sns.barplot(x=\"Model\", y=\"Accuracy\", data=results_df, palette=\"viridis\")\n",
    "plt.title(\"Model Comparison - Accuracy\")\n",
    "plt.ylabel(\"Accuracy\")\n",
    "plt.show()\n"
   ]
  },
  {
   "cell_type": "code",
   "execution_count": 12,
   "id": "984b91c0-3793-479b-8540-503c27861922",
   "metadata": {},
   "outputs": [
    {
     "name": "stderr",
     "output_type": "stream",
     "text": [
      "C:\\Users\\nikit\\AppData\\Local\\Temp\\ipykernel_1648\\3456424515.py:4: FutureWarning: \n",
      "\n",
      "Passing `palette` without assigning `hue` is deprecated and will be removed in v0.14.0. Assign the `x` variable to `hue` and set `legend=False` for the same effect.\n",
      "\n",
      "  sns.countplot(x=\"target\", data=df, palette=\"Set2\")\n"
     ]
    },
    {
     "data": {
      "image/png": "[encoded data removed]",
      "text/plain": [
       "<Figure size 600x400 with 1 Axes>"
      ]
     },
     "metadata": {},
     "output_type": "display_data"
    }
   ],
   "source": [
    "# Step 9: EDA Visualizations\n",
    "# Attrition distribution\n",
    "plt.figure(figsize=(6,4))\n",
    "sns.countplot(x=\"target\", data=df, palette=\"Set2\")\n",
    "plt.title(\"Attrition Distribution (0=Stayed, 1=Left)\")\n",
    "plt.show()\n",
    "\n",
    "\n"
   ]
  },
  {
   "cell_type": "code",
   "execution_count": 13,
   "id": "ffe4b4a6-de55-44c7-935e-2a4d29d70cc1",
   "metadata": {},
   "outputs": [
    {
     "name": "stderr",
     "output_type": "stream",
     "text": [
      "C:\\Users\\nikit\\AppData\\Local\\Temp\\ipykernel_1648\\2955752088.py:3: FutureWarning: \n",
      "\n",
      "Passing `palette` without assigning `hue` is deprecated and will be removed in v0.14.0. Assign the `x` variable to `hue` and set `legend=False` for the same effect.\n",
      "\n",
      "  sns.barplot(x=\"gender\", y=\"target\", data=df, palette=\"coolwarm\")\n"
     ]
    },
    {
     "data": {
      "image/png": "[encoded data removed]",
      "text/plain": [
       "<Figure size 600x400 with 1 Axes>"
      ]
     },
     "metadata": {},
     "output_type": "display_data"
    }
   ],
   "source": [
    "# Attrition by Gender\n",
    "plt.figure(figsize=(6,4))\n",
    "sns.barplot(x=\"gender\", y=\"target\", data=df, palette=\"coolwarm\")\n",
    "plt.title(\"Attrition Rate by Gender\")\n",
    "plt.show()\n",
    "\n"
   ]
  },
  {
   "cell_type": "markdown",
   "id": "60bb01e2-ea04-43e1-a22e-56ca11fb855e",
   "metadata": {},
   "source": [
    "Conclusion\n",
    "\n",
    "Logistic Regression provides a strong baseline (76.6% accuracy) for predicting employee attrition.\n",
    "\n",
    "It is most useful when the goal is understanding factors behind attrition rather than just prediction accuracy.\n",
    "\n",
    "However, for better predictive power, advanced models like Random Forest may be preferred since they capture complex patterns."
   ]
  },
  {
   "cell_type": "markdown",
   "id": "327b8106-561f-4775-9d7b-7d5da5b41978",
   "metadata": {},
   "source": [
    "Logistic Regression in Employee Attrition Prediction\n",
    "\n",
    "📌 Features of Logistic Regression\n",
    "\n",
    "Simple & interpretable statistical model.\n",
    "\n",
    "Predicts probability of employee leaving (Attrition = 1).\n",
    "\n",
    "Works well with binary classification problems like attrition (0 = stayed, 1 = left).\n",
    "\n",
    "Provides coefficients to understand feature impact (e.g., how age, department, or experience influence attrition).\n",
    "\n",
    "✅ Advantages\n",
    "\n",
    "High interpretability – easy to explain results to HR managers.\n",
    "\n",
    "Good baseline performance – gives a reference accuracy (here ~76.6%).\n",
    "\n",
    "Efficient – fast to train, even on large datasets.\n",
    "\n",
    "Probability outputs – HR can assess risk of attrition (e.g., \"employee has 80% chance of leaving\").\n",
    "\n",
    "❌ Disadvantages\n",
    "\n",
    "Linear assumption – may miss complex relationships in data.\n",
    "\n",
    "Lower accuracy than advanced models (e.g., Random Forest often performs better).\n",
    "\n",
    "Sensitive to multicollinearity – highly correlated features can affect coefficients.\n",
    "\n",
    "Less robust with imbalanced datasets (if very few employees leave compared to stay)."
   ]
  },
  {
   "cell_type": "code",
   "execution_count": null,
   "id": "7328d5a2-45a2-4fe7-8b53-56d0e7d1c013",
   "metadata": {},
   "outputs": [],
   "source": []
  }
 ],
 "metadata": {
  "kernelspec": {
   "display_name": "Python 3 (ipykernel)",
   "language": "python",
   "name": "python3"
  },
  "language_info": {
   "codemirror_mode": {
    "name": "ipython",
    "version": 3
   },
   "file_extension": ".py",
   "mimetype": "text/x-python",
   "name": "python",
   "nbconvert_exporter": "python",
   "pygments_lexer": "ipython3",
   "version": "3.13.5"
  }
 },
 "nbformat": 4,
 "nbformat_minor": 5
}
